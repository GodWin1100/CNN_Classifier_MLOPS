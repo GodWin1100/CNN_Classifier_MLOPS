{
 "cells": [
  {
   "cell_type": "code",
   "execution_count": 1,
   "metadata": {},
   "outputs": [
    {
     "data": {
      "text/plain": [
       "'d:\\\\Programming\\\\PROJECTS\\\\Data Science\\\\FSDS\\\\CNN_Classifier_MLOPS'"
      ]
     },
     "execution_count": 1,
     "metadata": {},
     "output_type": "execute_result"
    }
   ],
   "source": [
    "import os\n",
    "from collections import namedtuple\n",
    "\n",
    "os.chdir('..')\n",
    "os.getcwd()"
   ]
  },
  {
   "cell_type": "code",
   "execution_count": 2,
   "metadata": {},
   "outputs": [],
   "source": [
    "DataIngestionConfig = namedtuple(\"DataIngestionConfig\", [\"root_dir\", \"source_URL\", \"local_data_file\", \"unzip_dir\"])\n"
   ]
  },
  {
   "cell_type": "code",
   "execution_count": 3,
   "metadata": {},
   "outputs": [],
   "source": [
    "from DeepClassifier.constants import *\n",
    "from DeepClassifier.utils import read_yaml, create_directories\n"
   ]
  },
  {
   "cell_type": "code",
   "execution_count": 4,
   "metadata": {},
   "outputs": [],
   "source": [
    "class ConfigurationManager:\n",
    "    def __init__(self, config_filepath=CONFIG_FILE_PATH, params_filepath=PARAM_FILE_PATH)->None:\n",
    "        self.config = read_yaml(config_filepath)\n",
    "        self.params = read_yaml(params_filepath)\n",
    "        create_directories([self.config.artifacts_root])\n",
    "\n",
    "    def get_data_ingestion_config(self) -> DataIngestionConfig:\n",
    "        config = self.config.data_ingestion\n",
    "        create_directories([config.root_dir])\n",
    "        data_ingestion_config = DataIngestionConfig(\n",
    "            root_dir=config.root_dir,\n",
    "            source_URL=config.source_URL,\n",
    "            local_data_file=config.local_data_file,\n",
    "            unzip_dir=config.unzip_dir,\n",
    "        )\n",
    "        return data_ingestion_config\n"
   ]
  },
  {
   "cell_type": "code",
   "execution_count": 8,
   "metadata": {},
   "outputs": [],
   "source": [
    "from urllib import request\n",
    "from zipfile import ZipFile\n",
    "\n",
    "class DataIngestion:\n",
    "    def __init__(self,config:DataIngestionConfig) -> None:\n",
    "        self.config=config\n",
    "    \n",
    "    def download_file(self):\n",
    "        if not os.path.exists(self.config.local_data_file):\n",
    "            filename, headers=request.urlretrieve(url=self.config.source_URL,filename=self.config.local_data_file)\n",
    "\n",
    "    def _get_updated_list_of_files(self,list_of_files:list):\n",
    "        return [f for f in list_of_files if f.endswith('jpg') and ('Cat' in f or 'Dog' in f)]\n",
    "\n",
    "    def _preprocess(self,zf:ZipFile,f:str,working_dir:str):\n",
    "        target_filepath=os.path.join(working_dir,f)\n",
    "        if not os.path.exists(target_filepath):\n",
    "            zf.extract(f,working_dir)\n",
    "        \n",
    "        if os.path.getsize(target_filepath)==0:\n",
    "            os.remove(target_filepath)\n",
    "\n",
    "    def unzip_clean(self):\n",
    "        with ZipFile(file=self.config.local_data_file,mode='r') as zf:\n",
    "            list_of_files=zf.namelist()\n",
    "            updated_list_of_files=self._get_updated_list_of_files(list_of_files)\n",
    "            for f in updated_list_of_files:\n",
    "                self._preprocess(zf,f,self.config.unzip_dir)"
   ]
  },
  {
   "cell_type": "code",
   "execution_count": 9,
   "metadata": {},
   "outputs": [
    {
     "name": "stdout",
     "output_type": "stream",
     "text": [
      "[2022-09-15 04:40:46,836] DeepClassifierLogger:INFO:: common:common.py:read_yaml() => yaml file: configs\\config.yaml loaded successfully\n",
      "[2022-09-15 04:40:46,840] DeepClassifierLogger:INFO:: common:common.py:read_yaml() => yaml file: params.yaml loaded successfully\n",
      "[2022-09-15 04:40:46,842] DeepClassifierLogger:INFO:: common:common.py:create_directories() => created directory at: artifacts\n",
      "[2022-09-15 04:40:46,843] DeepClassifierLogger:INFO:: common:common.py:create_directories() => created directory at: artifacts/data_ingestion\n"
     ]
    }
   ],
   "source": [
    "try:\n",
    "    config=ConfigurationManager()\n",
    "    data_ingestion_config=config.get_data_ingestion_config()\n",
    "    data_ingestion=DataIngestion(config=data_ingestion_config)\n",
    "    data_ingestion.download_file()\n",
    "    data_ingestion.unzip_clean()\n",
    "except Exception as e:\n",
    "    raise e"
   ]
  }
 ],
 "metadata": {
  "kernelspec": {
   "display_name": "Python 3.8.13 (conda)",
   "language": "python",
   "name": "python3"
  },
  "language_info": {
   "codemirror_mode": {
    "name": "ipython",
    "version": 3
   },
   "file_extension": ".py",
   "mimetype": "text/x-python",
   "name": "python",
   "nbconvert_exporter": "python",
   "pygments_lexer": "ipython3",
   "version": "3.8.13"
  },
  "orig_nbformat": 4,
  "vscode": {
   "interpreter": {
    "hash": "27997be787195d857b5f0a486555ef7231724097d98cefd85877ef092b5632f1"
   }
  }
 },
 "nbformat": 4,
 "nbformat_minor": 2
}
